{
 "cells": [
  {
   "cell_type": "markdown",
   "id": "c825ca7c",
   "metadata": {},
   "source": [
    "# Assignment #1 - Data Gathering and Warehousing - DSSA-5102"
   ]
  },
  {
   "cell_type": "markdown",
   "id": "3e792669",
   "metadata": {},
   "source": [
    "Instructor: Melissa Laurino<br>\n",
    "Spring 2024"
   ]
  },
  {
   "cell_type": "markdown",
   "id": "db9fe204",
   "metadata": {},
   "source": [
    "Name: Ryan Nguyen\n",
    "<br>\n",
    "Date: 25 January 2024"
   ]
  },
  {
   "cell_type": "markdown",
   "id": "292e9143",
   "metadata": {},
   "source": [
    "<b>Data. Is. Everywhere.</b> <br>\n",
    "Our first objective is to locate and explore <b>TWO</b> datasets about something you are passionate about, or related to a field you would like to work in. Our semester plan is <i>try</i> to work with the same dataset through out the semester. You can find and explore as many datasets as you wish, but Assignment #2 will focus on the one you like the best.\n",
    "There are many great websites that offer public datasets avaialable to download. Examples include but are not limited to:\n",
    "<br>\n",
    "https://data.gov/ - Data.gov has many government owened public datasets.<br>\n",
    "https://data.worldbank.org/ - World Bank Data has world economic, social, and environmental data.<br>\n",
    "https://datasetsearch.research.google.com/ - Google Dataset Search: Many of these available datasets link to published studies available on Google Scholar in many fields.<br>\n",
    "https://www.kaggle.com/datasets - Kaggle Datasets is a platform for sharing datasets. Anyone can upload to this website.<br>\n",
    "https://www.census.gov/ - U.S. Census Bureau: Data on people, places and econoy for the United States.\n",
    "https://github.com/ - GitHub hosts datasets and completed projects.<br>\n",
    "https://fred.stlouisfed.org/ - Federal Reserve Economic Data (FRED) - Financial and economic data.<br>\n",
    "https://data.cdc.gov/ - Explore the various data collected by the CDC.<br>\n",
    "https://www.ncei.noaa.gov/cdo-web/ - NOAA climate and ocean data. <br>\n",
    "<br>\n",
    "In addition to these resources, occasionally local organizations may be able to provide you with data, or maybe even your own company! Your data source can come from a personal connection, but please be mindful of any data agreements or approvals you may need. If you need approval to use data from your place of employment, please specify that with the instructor so we can ensure no violations to your data agreement will be made this semester."
   ]
  },
  {
   "cell_type": "markdown",
   "id": "6c5eadb4",
   "metadata": {},
   "source": [
    "# Dataset #1"
   ]
  },
  {
   "cell_type": "markdown",
   "id": "0bf03c2c",
   "metadata": {},
   "source": [
    "Dataset name: Sample Characteristics\n",
    "Company/Government Organization: Department of Veteran Affairs\n",
    "Download link: https://catalog.data.gov/dataset/sample-characteristics-ff235"
   ]
  },
  {
   "cell_type": "markdown",
   "id": "55a352bf",
   "metadata": {},
   "source": [
    "Load any necessary libraries or packages:"
   ]
  },
  {
   "cell_type": "code",
   "execution_count": 26,
   "id": "f274f2ae",
   "metadata": {
    "scrolled": true
   },
   "outputs": [
    {
     "ename": "ERROR",
     "evalue": "Error in setwd(\"C:\\\\Users\\\\RyanPC\\\\OneDrive\\\\Desktop\\\\Data Gathering and Warehousing\\\\VA_Sample_Characteristics.csv\"): cannot change working directory\n",
     "output_type": "error",
     "traceback": [
      "Error in setwd(\"C:\\\\Users\\\\RyanPC\\\\OneDrive\\\\Desktop\\\\Data Gathering and Warehousing\\\\VA_Sample_Characteristics.csv\"): cannot change working directory\nTraceback:\n",
      "1. setwd(\"C:\\\\Users\\\\RyanPC\\\\OneDrive\\\\Desktop\\\\Data Gathering and Warehousing\\\\VA_Sample_Characteristics.csv\")"
     ]
    }
   ],
   "source": [
    "#Load packages\n",
    "library(tidyverse) #Reading data\n",
    "library(lubridate) #Reading and manipulating dates and times\n",
    "library(readr) #Reading the CSV data file\n",
    "library(ggplot2) #Graphing"
   ]
  },
  {
   "cell_type": "markdown",
   "id": "79c86913",
   "metadata": {},
   "source": [
    "Load your dataset into the notebook below:"
   ]
  },
  {
   "cell_type": "code",
   "execution_count": 4,
   "id": "8dbcdffd",
   "metadata": {},
   "outputs": [],
   "source": [
    "#Be sure to document each line of code like the above example.\n",
    "#Documenting each line of code is helpful when revisiting assignments later in the semester."
   ]
  },
  {
   "cell_type": "code",
   "execution_count": 27,
   "id": "2fc0d288",
   "metadata": {},
   "outputs": [
    {
     "name": "stderr",
     "output_type": "stream",
     "text": [
      "Parsed with column specification:\n",
      "cols(\n",
      "  .default = col_character(),\n",
      "  Study_Publication_Year = col_double(),\n",
      "  `N Randomized` = col_double(),\n",
      "  `PTSD Criteria Met at Baseline Percent` = col_double(),\n",
      "  `PTSD Severity at Baseline Mean` = col_double(),\n",
      "  `PTSD Severity at Baseline Standard Deviation` = col_double(),\n",
      "  `Duration of Symptoms/Diagnosis Mean` = col_double(),\n",
      "  `Duration of Symptoms/Diagnosis Standard Deviation` = col_double(),\n",
      "  `Active Duty Military Percent` = col_double(),\n",
      "  `Service-Connected Veteran Percent` = col_double(),\n",
      "  `Veteran Percent` = col_double(),\n",
      "  `Community Percent` = col_double(),\n",
      "  `Age Mean` = col_double(),\n",
      "  `Age Standard Deviation` = col_double(),\n",
      "  `Female Percent` = col_double(),\n",
      "  `Male Percent` = col_double(),\n",
      "  `Race, White` = col_double(),\n",
      "  `Race, Black` = col_double(),\n",
      "  `Race, AIAN` = col_double(),\n",
      "  `Race, Asian` = col_double(),\n",
      "  `Race, NHPI` = col_double()\n",
      "  # ... with 17 more columns\n",
      ")\n",
      "See spec(...) for full column specifications.\n"
     ]
    }
   ],
   "source": [
    "#Set your working directory to the folder where the CSV file is saved\n",
    "setwd(\"C:\\\\Users\\\\RyanPC\\\\OneDrive\\\\Desktop\\\\Data Gathering and Warehousing\\\\\")\n",
    "\n",
    "# Read in data\n",
    "va1_data <- read_csv(\"VA_Sample_Characteristics.csv\")"
   ]
  },
  {
   "cell_type": "markdown",
   "id": "741d90c8",
   "metadata": {},
   "source": [
    "What are the unique columns or variables present in your dataset? How many rows are there?"
   ]
  },
  {
   "cell_type": "code",
   "execution_count": 28,
   "id": "1ed08a0e",
   "metadata": {},
   "outputs": [
    {
     "name": "stdout",
     "output_type": "stream",
     "text": [
      "Observations: 496\n",
      "Variables: 79\n",
      "$ `Study ID`                                                       <chr> \"a...\n",
      "$ Study_Publication_Year                                           <dbl> 20...\n",
      "$ `Study Class`                                                    <chr> \"P...\n",
      "$ `Treatment Focus (Study level)`                                  <chr> \"P...\n",
      "$ `N Randomized`                                                   <dbl> 15...\n",
      "$ `N Randomized Detail`                                            <chr> \"n...\n",
      "$ `PTSD Criteria Met at Baseline Percent`                          <dbl> 1,...\n",
      "$ `PTSD Criteria Met at Baseline Percent Detail`                   <chr> NA...\n",
      "$ `PTSD Severity at Baseline Definition`                           <chr> \"C...\n",
      "$ `PTSD Severity at Baseline Mean`                                 <dbl> 39...\n",
      "$ `PTSD Severity at Baseline Standard Deviation`                   <dbl> 8....\n",
      "$ `PTSD Severity at Baseline Detail`                               <chr> NA...\n",
      "$ `Additional PTSD Severity Data`                                  <chr> \"A...\n",
      "$ `Duration of Symptoms/Diagnosis Mean`                            <dbl> NA...\n",
      "$ `Duration of Symptoms/Diagnosis Standard Deviation`              <dbl> NA...\n",
      "$ `Duration of Symptoms/Diagnosis Detail`                          <chr> NA...\n",
      "$ `Active Duty Military Percent`                                   <dbl> 0....\n",
      "$ `Service-Connected Veteran Percent`                              <dbl> NA...\n",
      "$ `Service-Connected Veteran Percent Detail`                       <chr> NA...\n",
      "$ `Veteran Percent`                                                <dbl> 0....\n",
      "$ `Community Percent`                                              <dbl> 0....\n",
      "$ `Military Status`                                                <chr> \"M...\n",
      "$ `Military Status Detail`                                         <chr> \"V...\n",
      "$ `Age Mean`                                                       <dbl> 43...\n",
      "$ `Age Standard Deviation`                                         <dbl> 11...\n",
      "$ `Age Detail`                                                     <chr> NA...\n",
      "$ `Female Percent`                                                 <dbl> 0....\n",
      "$ `Female Detail`                                                  <chr> NA...\n",
      "$ `Male Percent`                                                   <dbl> 0....\n",
      "$ `Race/Ethnicity Reported`                                        <chr> \"R...\n",
      "$ `Race, White`                                                    <dbl> 0....\n",
      "$ `Race, Black`                                                    <dbl> 0....\n",
      "$ `Race, AIAN`                                                     <dbl> NA...\n",
      "$ `Race, Asian`                                                    <dbl> NA...\n",
      "$ `Race, NHPI`                                                     <dbl> NA...\n",
      "$ `Race, Other`                                                    <dbl> 0....\n",
      "$ `Race, Detail`                                                   <chr> \"\\...\n",
      "$ `Ethnicity, Hispanic`                                            <dbl> 0....\n",
      "$ `Ethnicity, Hispanic Detail`                                     <chr> NA...\n",
      "$ `Percent Treatment-naive`                                        <chr> NA...\n",
      "$ `Percent Treatment-naive Detail`                                 <chr> \"I...\n",
      "$ `Percent with Depression`                                        <dbl> 0....\n",
      "$ `Percent with Depression Detail`                                 <chr> \"C...\n",
      "$ `Percent with TBI History`                                       <chr> \"0...\n",
      "$ `Percent with TBI History Detail`                                <chr> \"S...\n",
      "$ `Trauma Type`                                                    <chr> NA...\n",
      "$ `Trauma Detail`                                                  <chr> NA...\n",
      "$ `Trauma Types Mean`                                              <dbl> NA...\n",
      "$ `Trauma Types Standard Deviation`                                <dbl> NA...\n",
      "$ `Trauma Types Detail`                                            <chr> NA...\n",
      "$ `Trauma Events Mean`                                             <dbl> NA...\n",
      "$ `Trauma Events Standard Deviation`                               <dbl> NA...\n",
      "$ `Trauma Events Detail`                                           <chr> NA...\n",
      "$ `SUD Substance Class`                                            <chr> NA...\n",
      "$ `SUD Specific Substance Target`                                  <chr> NA...\n",
      "$ `Current SUD Inclusion/Exclusion Criteria`                       <chr> \"I...\n",
      "$ `Percent With Any SUD Detail`                                    <chr> \"C...\n",
      "$ `Patients with Suicidality Excluded`                             <lgl> NA...\n",
      "$ `Suicide or Self-Directed Violence Exclusion/Inclusion Criteria` <lgl> NA...\n",
      "$ `Suicide or Self-Directed Violence Definition`                   <chr> NA...\n",
      "$ `Suicide or Self-Directed Violence Percent`                      <dbl> NA...\n",
      "$ `Suicide or Self-Directed Violence Detail`                       <chr> \"S...\n",
      "$ `Psychotic Disorder or Symptom Inclusion/Exclusion Criteria`     <lgl> NA...\n",
      "$ `Psychotic Disorder or Symptom Related Definition`               <chr> \"P...\n",
      "$ `Psychotic Disorder or Symptom Related Percent`                  <dbl> 0....\n",
      "$ `Psychotic Disorder or Symptom Related Detail`                   <chr> \"E...\n",
      "$ `Personality Disorder Definition`                                <chr> NA...\n",
      "$ `Personality Disorder Percent`                                   <dbl> NA...\n",
      "$ `Personality Disorder Detail`                                    <chr> NA...\n",
      "$ `Anxiety Disorder Definition`                                    <chr> NA...\n",
      "$ `Anxiety Disorder Percent`                                       <dbl> NA...\n",
      "$ `Anxiety Disorder Detail`                                        <chr> NA...\n",
      "$ `Prior Inpatient Hospitalization Percent`                        <dbl> NA...\n",
      "$ `Prior Inpatient Hospitalization Percent Detail`                 <chr> NA...\n",
      "$ `Geometric Point`                                                <chr> \"P...\n",
      "$ `Risk of Bias Rating`                                            <chr> \"S...\n",
      "$ Citation                                                         <chr> \"A...\n",
      "$ `PTSDPubs ID`                                                    <dbl> 15...\n",
      "$ `Year Added to PTSD-Repository`                                  <dbl> 20...\n"
     ]
    }
   ],
   "source": [
    "#Let us look at the data using glimpse function and get a summarized view of the data to include number of rows/columns and their titles\n",
    "glimpse(va1_data)"
   ]
  },
  {
   "cell_type": "code",
   "execution_count": 7,
   "id": "65652edf",
   "metadata": {},
   "outputs": [],
   "source": [
    "#some unique varibles include the different types of studies and risk of bias rating. The number of rows are 496."
   ]
  },
  {
   "cell_type": "markdown",
   "id": "b913643b",
   "metadata": {},
   "source": [
    "Create one graph to quickly visualize your data. <br>\n",
    "It's okay if it is not visualy appealing or contains outliers, because we have not cleaned our data yet! Did you get any errors? If so, what were they? Would the errors have been avoided if you had cleaned the data first?<br>\n",
    "Data cleaning and transforming is very important when storing your data in a warehouse...ready for Assignment #2?"
   ]
  },
  {
   "cell_type": "code",
   "execution_count": 29,
   "id": "f201bbb4",
   "metadata": {},
   "outputs": [
    {
     "data": {
      "image/png": "[encoded data removed]",
      "text/plain": [
       "Plot with title \"Histogram of Study Publication Years\""
      ]
     },
     "metadata": {},
     "output_type": "display_data"
    }
   ],
   "source": [
    "# Create a histogram\n",
    "hist(va1_data$Study_Publication_Year, \n",
    "     main = \"Histogram of Study Publication Years\", \n",
    "     xlab = \"Publication Year\", \n",
    "     ylab = \"Frequency\",\n",
    "     col = \"lightblue\",\n",
    "     border = \"black\")"
   ]
  },
  {
   "cell_type": "code",
   "execution_count": 9,
   "id": "851b69fb",
   "metadata": {},
   "outputs": [],
   "source": [
    "#no errors, but the histogram shows avisual representation of the distribution of study publication years"
   ]
  },
  {
   "cell_type": "markdown",
   "id": "d58383c5",
   "metadata": {},
   "source": [
    "# Dataset #2"
   ]
  },
  {
   "cell_type": "markdown",
   "id": "66a091c2",
   "metadata": {},
   "source": [
    "Dataset name: FY2021 Total Number of Veterans, Veteran VA Users, and Veteran VA Healthcare Users by Race\n",
    "Company/Government Organization: Department of Veteran Affairs\n",
    "Download link: https://catalog.data.gov/dataset/fy-2021-total-number-of-veterans-veteran-va-users-and-veteran-va-healthcare-users-by-race-41237"
   ]
  },
  {
   "cell_type": "markdown",
   "id": "14708b28",
   "metadata": {},
   "source": [
    "Load any necessary libraries or packages:"
   ]
  },
  {
   "cell_type": "code",
   "execution_count": 30,
   "id": "cbdacc6b",
   "metadata": {
    "scrolled": true
   },
   "outputs": [],
   "source": [
    "#Load packages\n",
    "library(tidyverse) #Reading data\n",
    "library(lubridate) #Reading and manipulating dates and times\n",
    "library(readr) #Reading the CSV data file\n",
    "library(ggplot2) #Graphing"
   ]
  },
  {
   "cell_type": "markdown",
   "id": "f6ad53f3",
   "metadata": {},
   "source": [
    "Load your dataset into the notebook below:"
   ]
  },
  {
   "cell_type": "code",
   "execution_count": 33,
   "id": "0ccebf74",
   "metadata": {},
   "outputs": [
    {
     "name": "stderr",
     "output_type": "stream",
     "text": [
      "Parsed with column specification:\n",
      "cols(\n",
      "  VA_Program = col_character(),\n",
      "  Number_of_Users = col_double(),\n",
      "  Number_of_users = col_double()\n",
      ")\n"
     ]
    }
   ],
   "source": [
    "#Set your working directory to the folder where the CSV file is saved\n",
    "setwd(\"C:\\\\Users\\\\RyanPC\\\\OneDrive\\\\Desktop\\\\Data Gathering and Warehousing\\\\\")\n",
    "\n",
    "# Read in data\n",
    "va2_data <- read_csv(\"Users_of_VA_Benefits_by_Program__FY2021.csv\")"
   ]
  },
  {
   "cell_type": "markdown",
   "id": "bd503196",
   "metadata": {},
   "source": [
    "What are the unique columns or variables present in your dataset? How many rows are there?"
   ]
  },
  {
   "cell_type": "code",
   "execution_count": 34,
   "id": "f3b0fd38",
   "metadata": {},
   "outputs": [
    {
     "name": "stdout",
     "output_type": "stream",
     "text": [
      "Observations: 7\n",
      "Variables: 3\n",
      "$ VA_Program      <chr> \"Vocational Rehabilitation\", \"Memorial Benefits\", \"...\n",
      "$ Number_of_Users <dbl> NA, 346887, NA, NA, NA, NA, 6235169\n",
      "$ Number_of_users <dbl> 94092, NA, 464691, 889682, 3479281, 5382660, NA\n"
     ]
    }
   ],
   "source": [
    "#Let us look at the data using glimpse function and get a summarized view of the data to include number of rows/columns and their titles\n",
    "glimpse(va2_data)"
   ]
  },
  {
   "cell_type": "code",
   "execution_count": 13,
   "id": "9ae2587f",
   "metadata": {},
   "outputs": [],
   "source": [
    "#some unique varibles include the different types of va programs and the numbers of users. The number of rows are 7."
   ]
  },
  {
   "cell_type": "markdown",
   "id": "c1501908",
   "metadata": {},
   "source": [
    "Create one graph to quickly visualize your data. <br>\n",
    "It's okay if it is not visualy appealing or contains outliers, because we have not cleaned our data yet! Did you get any errors? If so, what were they? Would the errors have been avoided if you had cleaned the data first?<br>\n",
    "Data cleaning and transforming is very important when storing your data in a warehouse...ready for Assignment #2?"
   ]
  },
  {
   "cell_type": "code",
   "execution_count": 35,
   "id": "aebde75d",
   "metadata": {},
   "outputs": [
    {
     "data": {
      "image/png": "[encoded data removed]",
      "text/plain": [
       "Plot with title \"Distribution of Users Across VA Programs\""
      ]
     },
     "metadata": {},
     "output_type": "display_data"
    }
   ],
   "source": [
    "# Basic bar plot\n",
    "barplot(va2_data$Number_of_Users, names.arg = va2_data$VA_Program, \n",
    "        main = \"Distribution of Users Across VA Programs\", \n",
    "        xlab = \"VA Program\", ylab = \"Number of Users\",\n",
    "        las = 2, cex.names = 0.7) # las = 2 makes the x labels vertical"
   ]
  },
  {
   "cell_type": "code",
   "execution_count": 15,
   "id": "e6ab7e05",
   "metadata": {},
   "outputs": [],
   "source": [
    "#No errors, but the barplot shows a visual representation of the number of users per VA program. We can see that the graph isnt the cleanest and would need some more transformation to be visual appealing and less cluttered.."
   ]
  }
 ],
 "metadata": {
  "kernelspec": {
   "display_name": "R",
   "language": "R",
   "name": "ir"
  },
  "language_info": {
   "codemirror_mode": "r",
   "file_extension": ".r",
   "mimetype": "text/x-r-source",
   "name": "R",
   "pygments_lexer": "r",
   "version": "3.6.1"
  }
 },
 "nbformat": 4,
 "nbformat_minor": 5
}
